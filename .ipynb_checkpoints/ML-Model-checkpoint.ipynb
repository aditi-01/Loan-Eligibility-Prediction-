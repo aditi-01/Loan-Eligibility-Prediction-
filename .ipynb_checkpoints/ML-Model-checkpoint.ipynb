{
 "cells": [
  {
   "cell_type": "code",
   "execution_count": null,
   "metadata": {},
   "outputs": [],
   "source": [
    "import pandas as pd\n",
    "import seaborn as sns\n",
    "import matplotlib.pyplot as plt\n",
    "from sklearn.model_selection import train_test_split\n",
    "from sklearn.impute import SimpleImputer"
   ]
  },
  {
   "cell_type": "code",
   "execution_count": null,
   "metadata": {},
   "outputs": [],
   "source": [
    "train_df= pd.read_csv('../loan prediction/train.csv')"
   ]
  },
  {
   "cell_type": "code",
   "execution_count": null,
   "metadata": {},
   "outputs": [],
   "source": [
    "train_df.head"
   ]
  },
  {
   "cell_type": "code",
   "execution_count": null,
   "metadata": {},
   "outputs": [],
   "source": [
    "train_df.info()"
   ]
  },
  {
   "cell_type": "raw",
   "metadata": {},
   "source": [
    "train_df = train_df.drop(columns=['Loan_ID']) "
   ]
  },
  {
   "cell_type": "code",
   "execution_count": null,
   "metadata": {},
   "outputs": [],
   "source": [
    "categorical_columns = ['Gender', 'Married', 'Dependents', 'Education', 'Self_Employed', 'Property_Area','Credit_History','Loan_Amount_Term']"
   ]
  },
  {
   "cell_type": "code",
   "execution_count": null,
   "metadata": {},
   "outputs": [],
   "source": [
    "print(categorical_columns)"
   ]
  },
  {
   "cell_type": "code",
   "execution_count": null,
   "metadata": {},
   "outputs": [],
   "source": [
    "numerical_columns = ['ApplicantIncome', 'CoapplicantIncome', 'LoanAmount']"
   ]
  },
  {
   "cell_type": "code",
   "execution_count": null,
   "metadata": {},
   "outputs": [],
   "source": [
    "print(numerical_columns)"
   ]
  },
  {
   "cell_type": "code",
   "execution_count": null,
   "metadata": {},
   "outputs": [],
   "source": [
    "fig,axes = plt.subplots(4,2,figsize=(12,15))\n",
    "for idx,cat_col in enumerate(categorical_columns):\n",
    "    row,col = idx//2,idx%2\n",
    "    sns.countplot(x=cat_col,data=train_df,hue='Loan_Status',ax=axes[row,col])\n",
    "\n",
    "\n",
    "plt.subplots_adjust(hspace=1)"
   ]
  },
  {
   "cell_type": "code",
   "execution_count": null,
   "metadata": {},
   "outputs": [],
   "source": [
    "fig,axes = plt.subplots(1,3,figsize=(17,5))\n",
    "for idx,cat_col in enumerate(numerical_columns):\n",
    "    sns.boxplot(y=cat_col,data=train_df,x='Loan_Status',ax=axes[idx])\n",
    "\n",
    "print(train_df[numerical_columns].describe())\n",
    "plt.subplots_adjust(hspace=1)"
   ]
  },
  {
   "cell_type": "code",
   "execution_count": null,
   "metadata": {},
   "outputs": [],
   "source": [
    "train_df_encoded = pd.get_dummies(train_df,drop_first=True)\n",
    "train_df_encoded.head()"
   ]
  },
  {
   "cell_type": "code",
   "execution_count": null,
   "metadata": {},
   "outputs": [],
   "source": [
    "X = train_df_encoded.drop(columns='Loan_Status_Y')\n",
    "y = train_df_encoded['Loan_Status_Y']"
   ]
  },
  {
   "cell_type": "code",
   "execution_count": null,
   "metadata": {},
   "outputs": [],
   "source": [
    "X_train,X_test,y_train,y_test = train_test_split(X,y,test_size=0.2,stratify =y,random_state =42)"
   ]
  },
  {
   "cell_type": "code",
   "execution_count": null,
   "metadata": {},
   "outputs": [],
   "source": [
    "imp = SimpleImputer(strategy='mean')\n",
    "imp_train = imp.fit(X_train)\n",
    "X_train = imp_train.transform(X_train)\n",
    "X_test_imp = imp_train.transform(X_test)"
   ]
  },
  {
   "cell_type": "code",
   "execution_count": null,
   "metadata": {},
   "outputs": [],
   "source": [
    "## Decision tree classifier\n",
    "from sklearn.tree import DecisionTreeClassifier\n",
    "from sklearn.model_selection import cross_val_score\n",
    "from sklearn.metrics import accuracy_score,f1_score\n",
    "tree_clf = DecisionTreeClassifier()\n",
    "tree_clf.fit(X_train,y_train)\n",
    "y_pred = tree_clf.predict(X_train)\n",
    "print(\"Training Data Set Accuracy: \", accuracy_score(y_train,y_pred))\n",
    "print(\"Training Data F1 Score \", f1_score(y_train,y_pred))\n",
    "\n",
    "print(\"Validation Mean F1 Score: \",cross_val_score(tree_clf,X_train,y_train,cv=5,scoring='f1_macro').mean())\n",
    "print(\"Validation Mean Accuracy: \",cross_val_score(tree_clf,X_train,y_train,cv=5,scoring='accuracy').mean())"
   ]
  },
  {
   "cell_type": "code",
   "execution_count": null,
   "metadata": {},
   "outputs": [],
   "source": [
    "training_accuracy = []\n",
    "val_accuracy = []\n",
    "training_f1 = []\n",
    "val_f1 = []\n",
    "tree_depths = []\n",
    "\n",
    "for depth in range(1,20):\n",
    "    tree_clf = DecisionTreeClassifier(max_depth=depth)\n",
    "    tree_clf.fit(X_train,y_train)\n",
    "    y_training_pred = tree_clf.predict(X_train)\n",
    "\n",
    "    training_acc = accuracy_score(y_train,y_training_pred)\n",
    "    train_f1 = f1_score(y_train,y_training_pred)\n",
    "    val_mean_f1 = cross_val_score(tree_clf,X_train,y_train,cv=5,scoring='f1_macro').mean()\n",
    "    val_mean_accuracy = cross_val_score(tree_clf,X_train,y_train,cv=5,scoring='accuracy').mean()\n",
    "    \n",
    "    training_accuracy.append(training_acc)\n",
    "    val_accuracy.append(val_mean_accuracy)\n",
    "    training_f1.append(train_f1)\n",
    "    val_f1.append(val_mean_f1)\n",
    "    tree_depths.append(depth)"
   ]
  },
  {
   "cell_type": "code",
   "execution_count": null,
   "metadata": {},
   "outputs": [],
   "source": [
    "Tuning_Max_depth = {\"Training Accuracy\": training_accuracy, \"Validation Accuracy\": val_accuracy, \"Training F1\": training_f1, \"Validation F1\":val_f1, \"Max_Depth\": tree_depths }"
   ]
  },
  {
   "cell_type": "code",
   "execution_count": null,
   "metadata": {},
   "outputs": [],
   "source": [
    "Tuning_Max_depth_df = pd.DataFrame.from_dict(Tuning_Max_depth)\n"
   ]
  },
  {
   "cell_type": "code",
   "execution_count": null,
   "metadata": {},
   "outputs": [],
   "source": [
    "plot_df = Tuning_Max_depth_df.melt('Max_Depth',var_name='Metrics',value_name=\"Values\")\n",
    "fig,ax = plt.subplots(figsize=(15,5))\n",
    "sns.pointplot(x=\"Max_Depth\", y=\"Values\",hue=\"Metrics\", data=plot_df,ax=ax)"
   ]
  },
  {
   "cell_type": "code",
   "execution_count": null,
   "metadata": {},
   "outputs": [],
   "source": [
    "training_accuracy = []\n",
    "val_accuracy = []\n",
    "training_f1 = []\n",
    "val_f1 = []\n",
    "min_samples_leaf = []\n",
    "import numpy as np\n",
    "for samples_leaf in range(1,80,3): ### Sweeping from 1% samples to 10% samples per leaf \n",
    "    tree_clf = DecisionTreeClassifier(max_depth=3,min_samples_leaf = samples_leaf)\n",
    "    tree_clf.fit(X_train,y_train)\n",
    "    y_training_pred = tree_clf.predict(X_train)\n",
    "\n",
    "    training_acc = accuracy_score(y_train,y_training_pred)\n",
    "    train_f1 = f1_score(y_train,y_training_pred)\n",
    "    val_mean_f1 = cross_val_score(tree_clf,X_train,y_train,cv=5,scoring='f1_macro').mean()\n",
    "    val_mean_accuracy = cross_val_score(tree_clf,X_train,y_train,cv=5,scoring='accuracy').mean()\n",
    "    \n",
    "    training_accuracy.append(training_acc)\n",
    "    val_accuracy.append(val_mean_accuracy)\n",
    "    training_f1.append(train_f1)\n",
    "    val_f1.append(val_mean_f1)\n",
    "    min_samples_leaf.append(samples_leaf)"
   ]
  },
  {
   "cell_type": "code",
   "execution_count": null,
   "metadata": {},
   "outputs": [],
   "source": [
    "Tuning_min_samples_leaf = {\"Training Accuracy\": training_accuracy, \"Validation Accuracy\": val_accuracy, \"Training F1\": training_f1, \"Validation F1\":val_f1, \"Min_Samples_leaf\": min_samples_leaf }\n",
    "Tuning_min_samples_leaf_df = pd.DataFrame.from_dict(Tuning_min_samples_leaf)\n",
    "\n",
    "plot_df = Tuning_min_samples_leaf_df.melt('Min_Samples_leaf',var_name='Metrics',value_name=\"Values\")\n",
    "fig,ax = plt.subplots(figsize=(15,5))\n",
    "sns.pointplot(x=\"Min_Samples_leaf\", y=\"Values\",hue=\"Metrics\", data=plot_df,ax=ax)"
   ]
  },
  {
   "cell_type": "code",
   "execution_count": null,
   "metadata": {},
   "outputs": [],
   "source": [
    "from sklearn.metrics import confusion_matrix\n",
    "tree_clf = DecisionTreeClassifier(max_depth=3,min_samples_leaf = 35)\n",
    "tree_clf.fit(X_train,y_train)\n",
    "y_pred = tree_clf.predict(X_test_imp)\n",
    "print(\"Test Accuracy: \",accuracy_score(y_test,y_pred))\n",
    "print(\"Test F1 Score: \",f1_score(y_test,y_pred))\n",
    "print(\"Confusion Matrix on Test Data\")\n",
    "pd.crosstab(y_test, y_pred, rownames=['True'], colnames=['Predicted'], margins=True)"
   ]
  },
  {
   "cell_type": "code",
   "execution_count": null,
   "metadata": {},
   "outputs": [],
   "source": []
  }
 ],
 "metadata": {
  "kernelspec": {
   "display_name": "Python 3",
   "language": "python",
   "name": "python3"
  },
  "language_info": {
   "codemirror_mode": {
    "name": "ipython",
    "version": 3
   },
   "file_extension": ".py",
   "mimetype": "text/x-python",
   "name": "python",
   "nbconvert_exporter": "python",
   "pygments_lexer": "ipython3",
   "version": "3.7.6"
  }
 },
 "nbformat": 4,
 "nbformat_minor": 4
}
